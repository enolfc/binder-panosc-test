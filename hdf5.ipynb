{
 "cells": [
  {
   "cell_type": "markdown",
   "metadata": {},
   "source": [
    "<a href=\"https://www.panosc.eu/\">\n",
    "<img src=\"https://www.eosc-portal.eu/sites/default/files/PANOSC_0.jpg\" width=\"450\" heigth=\"450\"></a>\n",
    "\n",
    "| Author | Affiliation |\n",
    "| ---- | ---- | \n",
    "| [Giuseppe La Rocca](mailto:giuseppe.larocca@egi.eu) | EGI Foundation | \n",
    "| [Enol Fernández](mailto:enol.fernandez@egi.eu) | EGI Foundation | \n",
    "| [Marco De Simone](mailto:marco.desimone@ceric-eric.eu) | CERIC-ERIC |\n",
    "| [Michal Orzechowski](mailto:michal.orzechowski@cyfronet.pl) | CYFRONET |\n",
    "| [Łukasz Opioła](mailto:lukasz.opiola@gmail.com) | CYFRONET |\n",
    "| [Bartosz Kryza](mailto:bkryza@agh.edu.pl) | CYFRONET |\n",
    "| [Miroslav Ruda](mailto:ruda@ics.muni.cz) | CESNET-MCC |\n",
    "| [Andrei Kirushchanka](mailto:andrei.kirushchanka@cesnet.cz) | CESNET-MCC |\n",
    "| [Christos Kanellopoulos](mailto:christos.kanellopoulos@geant.org) | GEANT |\n",
    "\n",
    "| Created | Last updated | License\n",
    "| ---- | ---- | ---- |\n",
    "| 01 April 2020 | 09 April 2020 | Apache v2.0\n",
    "\n",
    "---\n",
    "### About this notebook\n",
    "\n",
    "- This notebook is used to demonstrate how a scientist from one of the <a href=\"https://www.panosc.eu/\">PaNOSC</a> RIs can use the resources provided by <a href=\"https://www.egi.eu/\">EGI</a> to perform analysis on the data sets obtained during an expirement.\n",
    "- The PaNOSC RI involved in this data transfer pilot is <a href=\"https://www.ceric-eric.eu/\">CERIC-ERIC</a> from Trieste. For this pilot use case CERIC-ERIC provided access to <a href=\"https://support.hdfgroup.org/HDF5/doc/H5.intro.html\">hdf5</a> data sets.\n",
    "- <a href=\"https://www.cesnet.cz/\">CESNET-MCC</a> is the cloud provider of the EGI Federation supporting this pilot use case with computing and storage resources. \n",
    "- To federate the hdf5 data sets, and enable data replication across different RI providers, the <a href=\"https://onedata.org/\">Onedata</a> software stack will be used.\n",
    "- The <a href=\"https://www.egi.eu/services/notebooks/\">EGI Notebooks</a> service, based on <a href=\"https://jupyter.org/hub\">JupyterHub</a> technology, is used as agile environment to access and process data sets.\n",
    "- Federated credentials released by <a href=\"https://umbrellaid.org/\">UmbrellaID</a> are used to access the services and resources of this pilot.\n",
    "- To read and analyse hdf5 data sets we used the <a href=\"https://github.com/European-XFEL/h5glance\">H5Glance</a> library developed</br> by the <a href=\"https://www.xfel.eu/\">European-XFEL</a> and the <a href=\"https://www.h5py.org/\">h5py</a> Python library.\n",
    "\n",
    "---\n",
    "### High-level architecture of the PaNOSC Data Transfer Pilot\n",
    "\n",
    "![title](imgs/Architecture.png)"
   ]
  },
  {
   "cell_type": "markdown",
   "metadata": {},
   "source": [
    "## Install additional libraries\n",
    "\n",
    "Libraries can also be installed from a Linux terminal"
   ]
  },
  {
   "cell_type": "code",
   "execution_count": 8,
   "metadata": {},
   "outputs": [
    {
     "name": "stdout",
     "output_type": "stream",
     "text": [
      "Requirement already satisfied: h5glance in /opt/conda/lib/python3.7/site-packages (0.6)\n",
      "Requirement already satisfied: h5py in /opt/conda/lib/python3.7/site-packages (from h5glance) (2.10.0)\n",
      "Requirement already satisfied: htmlgen in /opt/conda/lib/python3.7/site-packages (from h5glance) (1.2.2)\n",
      "Requirement already satisfied: six in /opt/conda/lib/python3.7/site-packages (from h5py->h5glance) (1.14.0)\n",
      "Requirement already satisfied: numpy>=1.7 in /opt/conda/lib/python3.7/site-packages (from h5py->h5glance) (1.18.1)\n",
      "Note: you may need to restart the kernel to use updated packages.\n"
     ]
    }
   ],
   "source": [
    "%pip install h5glance"
   ]
  },
  {
   "cell_type": "markdown",
   "metadata": {},
   "source": [
    "## Import the necessary libraries"
   ]
  },
  {
   "cell_type": "code",
   "execution_count": 3,
   "metadata": {},
   "outputs": [],
   "source": [
    "import h5py\n",
    "from h5glance import H5Glance\n",
    "\n",
    "# Import auxiliary libraries\n",
    "import os, io\n",
    "import requests\n",
    "import matplotlib.pyplot as plt\n",
    "from PIL import Image \n",
    "import os.path\n",
    "from os import path\n",
    "\n",
    "# Import additional Onedata library\n",
    "from fs.onedatafs import OnedataFS"
   ]
  },
  {
   "cell_type": "markdown",
   "metadata": {},
   "source": [
    "## Get the .h5 datasets location in the shared volume space"
   ]
  },
  {
   "cell_type": "code",
   "execution_count": 4,
   "metadata": {},
   "outputs": [
    {
     "name": "stdout",
     "output_type": "stream",
     "text": [
      "Response from: oneprovider-pn.onezone-panosc.egi.eu\n",
      "[{'spaceId': '37b5b4f6a9df5fe38500273755b37996', 'name': 'CERIC-ERIC'}]\n",
      "\n",
      "SpaceID = 37b5b4f6a9df5fe38500273755b37996\n",
      "Space Name = CERIC-ERIC\n",
      "\n",
      "Datasets is available at: /CERIC-ERIC/marco.desimone/samples/twinmic/\n"
     ]
    }
   ],
   "source": [
    "folder_name=\"marco.desimone/samples/twinmic/\"\n",
    "#folder_name=\"marco.desimone/samples/\"\n",
    "\n",
    "# Listing all volume space \n",
    "headers = {'X-Auth-Token': os.environ['ONECLIENT_ACCESS_TOKEN']}\n",
    "url = \"https://%s/api/v3/oneprovider/spaces/\" %os.environ['ONEPROVIDER_HOST']\n",
    "r = requests.get(url=url, headers=headers)\n",
    "print(\"Response from: %s\" %os.environ['ONEPROVIDER_HOST'])\n",
    "print(r.json())\n",
    "\n",
    "spaceId = r.json()[0]['spaceId']\n",
    "space_name = r.json()[0]['name']\n",
    "print(\"\\nSpaceID = %s\" %spaceId)\n",
    "print(\"Space Name = %s\" %space_name)\n",
    "\n",
    "# Create the path in OZ where the .h5 datasets is stored\n",
    "OZ_path = os.path.join('/', space_name, folder_name)\n",
    "print(\"\\nDatasets is available at: %s\" % OZ_path)"
   ]
  },
  {
   "cell_type": "markdown",
   "metadata": {},
   "source": [
    "## Listing datasets in the volume space "
   ]
  },
  {
   "cell_type": "code",
   "execution_count": 5,
   "metadata": {},
   "outputs": [
    {
     "data": {
      "text/plain": [
       "['twinmic_scan_41.h5']"
      ]
     },
     "execution_count": 5,
     "metadata": {},
     "output_type": "execute_result"
    }
   ],
   "source": [
    "# Create connection to Oneprovider\n",
    "odfs = OnedataFS(os.environ['ONEPROVIDER_HOST'],\n",
    "                 os.environ['ONECLIENT_ACCESS_TOKEN'],\n",
    "                 force_proxy_io=True)\n",
    "\n",
    "# Open remote dir\n",
    "s1 = odfs.opendir(OZ_path)\n",
    "\n",
    "# List contents from remote dir\n",
    "s1.listdir('')"
   ]
  },
  {
   "cell_type": "markdown",
   "metadata": {},
   "source": [
    "## Reading the specific .h5 datasets"
   ]
  },
  {
   "cell_type": "code",
   "execution_count": 6,
   "metadata": {},
   "outputs": [
    {
     "name": "stdout",
     "output_type": "stream",
     "text": [
      "Loading datasets: [/CERIC-ERIC/marco.desimone/samples/twinmic/twinmic_scan_41.h5] from the volume space\n"
     ]
    },
    {
     "data": {
      "text/html": [
       "<div><style>/* Based on https://css-tricks.com/snippets/css/nested-expandable-folders/\n",
       "   Reused with permission from https://css-tricks.com/license/\n",
       "*/\n",
       "\n",
       ".h5glance-css-treeview ul,\n",
       ".h5glance-css-treeview li\n",
       "{\n",
       "\tpadding: 0;\n",
       "\tmargin: 0;\n",
       "    margin-left: 12px;\n",
       "\tlist-style: none;\n",
       "}\n",
       "\n",
       "/* Override padding from Jupyter CSS */\n",
       ".rendered_html .h5glance-css-treeview ul {\n",
       "    padding: 0;\n",
       "}\n",
       "\n",
       "/* Make the checkbox itself invisible */\n",
       ".h5glance-css-treeview input\n",
       "{\n",
       "\tposition: absolute;\n",
       "\topacity: 0;\n",
       "}\n",
       "\n",
       ".h5glance-css-treeview\n",
       "{\n",
       "    font-family: sans-serif;\n",
       "\t-moz-user-select: none;\n",
       "\t-webkit-user-select: none;\n",
       "\tuser-select: none;\n",
       "}\n",
       "\n",
       ".h5glance-css-treeview code {\n",
       "    font-size: 12pt;\n",
       "    font-family: \"courier\", monospace;\n",
       "}\n",
       "\n",
       ".h5glance-css-treeview a.h5glance-dataset-copylink\n",
       "{\n",
       "    text-decoration: none;\n",
       "}\n",
       "\n",
       "/* These next two bits drive the expanding/collapsing behaviour */\n",
       ".h5glance-css-treeview input + label + ul\n",
       "{\n",
       "\tdisplay: none;\n",
       "}\n",
       "\n",
       ".h5glance-css-treeview input:checked:not(:disabled) + label + ul\n",
       "{\n",
       "\tdisplay: block;\n",
       "}\n",
       "\n",
       ".h5glance-css-treeview label,\n",
       ".h5glance-css-treeview label::before\n",
       "{\n",
       "\tdisplay: inline-block;\n",
       "\theight: 16px;\n",
       "\tline-height: 16px;,\n",
       "\tvertical-align: middle;\n",
       "}\n",
       "\n",
       ".h5glance-css-treeview label\n",
       "{\n",
       "    margin-left: -1.5em;\n",
       "}\n",
       "\n",
       ".h5glance-css-treeview label::before\n",
       "{\n",
       "\tcontent: \"\\229e\"; /* squared plus */\n",
       "\twidth: 1.5em;\n",
       "\tvertical-align: middle;\n",
       "}\n",
       "\n",
       ".h5glance-css-treeview input:checked + label::before\n",
       "{\n",
       "    content: \"\\229f\";  /* squared minus */\n",
       "}\n",
       "\n",
       "/* webkit adjacent element selector bugfix */\n",
       "@media screen and (-webkit-min-device-pixel-ratio:0)\n",
       "{\n",
       "\t.h5glance-css-treeview\n",
       "\t{\n",
       "\t\t-webkit-animation: webkit-adjacent-element-selector-bugfix infinite 1s;\n",
       "\t}\n",
       "\n",
       "\t@-webkit-keyframes webkit-adjacent-element-selector-bugfix\n",
       "\t{\n",
       "\t\tfrom\n",
       "\t\t{\n",
       "\t\t\tpadding: 0;\n",
       "\t\t}\n",
       "\t\tto\n",
       "\t\t{\n",
       "\t\t\tpadding: 0;\n",
       "\t\t}\n",
       "\t}\n",
       "}\n",
       "\n",
       ".h5glance-css-treeview li.h5glance-dataset {\n",
       "    margin-bottom: 3px;\n",
       "}\n",
       "\n",
       ".h5glance-dataset-name {\n",
       "    font-weight: bold;\n",
       "}\n",
       "</style><div id=\"h5glance-container-0\" class=\"h5glance-css-treeview\"><ul><li><input checked=\"checked\" id=\"h5glance-expand-switch-0\" type=\"checkbox\"/><label for=\"h5glance-expand-switch-0\">&lt;onedatafile &#x27;/CERIC-ERIC/marco.desimone/samples/twinmic/twinmic_scan_41.h5&#x27; Mode(&#x27;r&#x27;)&gt;</label><ul><li><input id=\"h5glance-expand-switch-1\" type=\"checkbox\"/><label for=\"h5glance-expand-switch-1\">andor</label><ul><li class=\"h5glance-dataset\"><span class=\"h5glance-dataset-name\">image</span> <a data-hdf5-path=\"/andor/image\" href=\"#\" class=\"h5glance-dataset-copylink\">[📋]</a>: 2601 × 64 × 64 entries, dtype: <abbr title=\"16-bit unsigned integer\"><code>&lt;u2</code></abbr></li><li class=\"h5glance-dataset\"><span class=\"h5glance-dataset-name\">intensity</span> <a data-hdf5-path=\"/andor/intensity\" href=\"#\" class=\"h5glance-dataset-copylink\">[📋]</a>: 2601 entries, dtype: <abbr title=\"64-bit floating point\"><code>&lt;f8</code></abbr></li></ul></li><li><input id=\"h5glance-expand-switch-2\" type=\"checkbox\"/><label for=\"h5glance-expand-switch-2\">dante</label><ul><li class=\"h5glance-dataset\"><span class=\"h5glance-dataset-name\">preset_time</span> <a data-hdf5-path=\"/dante/preset_time\" href=\"#\" class=\"h5glance-dataset-copylink\">[📋]</a>:  entries, dtype: <abbr title=\"64-bit floating point\"><code>&lt;f8</code></abbr></li></ul></li><li><input id=\"h5glance-expand-switch-3\" type=\"checkbox\"/><label for=\"h5glance-expand-switch-3\">sample_motors</label><ul><li class=\"h5glance-dataset\"><span class=\"h5glance-dataset-name\">sample_stage_x</span> <a data-hdf5-path=\"/sample_motors/sample_stage_x\" href=\"#\" class=\"h5glance-dataset-copylink\">[📋]</a>: 2601 entries, dtype: <abbr title=\"64-bit floating point\"><code>&lt;f8</code></abbr></li><li class=\"h5glance-dataset\"><span class=\"h5glance-dataset-name\">sample_stage_y</span> <a data-hdf5-path=\"/sample_motors/sample_stage_y\" href=\"#\" class=\"h5glance-dataset-copylink\">[📋]</a>: 2601 entries, dtype: <abbr title=\"64-bit floating point\"><code>&lt;f8</code></abbr></li><li class=\"h5glance-dataset\"><span class=\"h5glance-dataset-name\">sample_x_pos</span> <a data-hdf5-path=\"/sample_motors/sample_x_pos\" href=\"#\" class=\"h5glance-dataset-copylink\">[📋]</a>: 2601 entries, dtype: <abbr title=\"64-bit floating point\"><code>&lt;f8</code></abbr></li><li class=\"h5glance-dataset\"><span class=\"h5glance-dataset-name\">sample_y_pos</span> <a data-hdf5-path=\"/sample_motors/sample_y_pos\" href=\"#\" class=\"h5glance-dataset-copylink\">[📋]</a>: 2601 entries, dtype: <abbr title=\"64-bit floating point\"><code>&lt;f8</code></abbr></li></ul></li><li class=\"h5glance-dataset\"><span class=\"h5glance-dataset-name\">triggers</span> <a data-hdf5-path=\"/triggers\" href=\"#\" class=\"h5glance-dataset-copylink\">[📋]</a>: 2601 entries, dtype: <abbr title=\"32-bit signed integer\"><code>&lt;i4</code></abbr></li><li class=\"h5glance-dataset\"><span class=\"h5glance-dataset-name\">triggers_timestamp</span> <a data-hdf5-path=\"/triggers_timestamp\" href=\"#\" class=\"h5glance-dataset-copylink\">[📋]</a>: 2601 entries, dtype: <abbr title=\"64-bit floating point\"><code>&lt;f8</code></abbr></li></ul></li></ul></div><script>// Based on code by Stackoverflow user Dean Taylor\n",
       "// https://stackoverflow.com/questions/400212/how-do-i-copy-to-the-clipboard-in-javascript/30810322\n",
       "// Used under Stackoverflow's CC-BY-SA 3.0 license\n",
       "\n",
       "(function() {\n",
       "    function copyTextToClipboard(text) {\n",
       "        let textArea = document.createElement(\"textarea\");\n",
       "\n",
       "        //\n",
       "        // *** This styling is an extra step which is likely not required. ***\n",
       "        //\n",
       "        // Why is it here? To ensure:\n",
       "        // 1. the element is able to have focus and selection.\n",
       "        // 2. if element was to flash render it has minimal visual impact.\n",
       "        // 3. less flakyness with selection and copying which **might** occur if\n",
       "        //    the textarea element is not visible.\n",
       "        //\n",
       "        // The likelihood is the element won't even render, not even a flash,\n",
       "        // so some of these are just precautions. However in IE the element\n",
       "        // is visible whilst the popup box asking the user for permission for\n",
       "        // the web page to copy to the clipboard.\n",
       "        //\n",
       "\n",
       "        // Place in top-left corner of screen regardless of scroll position.\n",
       "        textArea.style.position = 'fixed';\n",
       "        textArea.style.top = 0;\n",
       "        textArea.style.left = 0;\n",
       "\n",
       "        // Ensure it has a small width and height. Setting to 1px / 1em\n",
       "        // doesn't work as this gives a negative w/h on some browsers.\n",
       "        textArea.style.width = '2em';\n",
       "        textArea.style.height = '2em';\n",
       "\n",
       "        // We don't need padding, reducing the size if it does flash render.\n",
       "        textArea.style.padding = 0;\n",
       "\n",
       "        // Clean up any borders.\n",
       "        textArea.style.border = 'none';\n",
       "        textArea.style.outline = 'none';\n",
       "        textArea.style.boxShadow = 'none';\n",
       "\n",
       "        // Avoid flash of white box if rendered for any reason.\n",
       "        textArea.style.background = 'transparent';\n",
       "\n",
       "\n",
       "        textArea.value = text;\n",
       "\n",
       "        document.body.appendChild(textArea);\n",
       "        textArea.focus();\n",
       "        textArea.select();\n",
       "\n",
       "        try {\n",
       "            if (!document.execCommand('copy')) {\n",
       "                console.log(\"Unable to copy text with document.execCommand()\");\n",
       "            }\n",
       "        } finally {\n",
       "            document.body.removeChild(textArea);\n",
       "        }\n",
       "    }\n",
       "\n",
       "    function copy_event_handler(event) {\n",
       "        copyTextToClipboard(event.target.dataset.hdf5Path);\n",
       "        event.preventDefault();\n",
       "    }\n",
       "\n",
       "    function enable_copylinks(parent) {\n",
       "        let links = parent.querySelectorAll(\".h5glance-dataset-copylink\");\n",
       "        links.forEach(function (link) {\n",
       "            link.addEventListener(\"click\", copy_event_handler);\n",
       "        });\n",
       "    }\n",
       "\n",
       "    // The code to actually trigger this is substituted below.\n",
       "    \n",
       "enable_copylinks(document.getElementById(\"h5glance-container-0\"));\n",
       "\n",
       "})();\n",
       "</script></div>"
      ],
      "text/plain": [
       "<h5glance.generate.H5Glance at 0x7f69fc241a50>"
      ]
     },
     "execution_count": 6,
     "metadata": {},
     "output_type": "execute_result"
    }
   ],
   "source": [
    "#file_name = \"simulated.sample3d-2gb-1.h5\"\n",
    "#file_name = \"simulated.sample2d-10gb-001.h5\"\n",
    "file_name = \"twinmic_scan_41.h5\"\n",
    "h5file_name = os.path.join(OZ_path, file_name)\n",
    "\n",
    "print(\"Loading datasets: [%s] from the volume space\" %h5file_name)\n",
    "\n",
    "f = odfs.openbin(h5file_name, mode='r')\n",
    "os.environ['H5PY_DEFAULT_READONLY'] = '1'\n",
    "fh5py = h5py.File(f)\n",
    "\n",
    "H5Glance(fh5py)"
   ]
  },
  {
   "cell_type": "markdown",
   "metadata": {},
   "source": [
    "## Plotting the datasets "
   ]
  },
  {
   "cell_type": "code",
   "execution_count": 7,
   "metadata": {},
   "outputs": [
    {
     "name": "stdout",
     "output_type": "stream",
     "text": [
      "Available keys: <KeysViewHDF5 ['andor', 'dante', 'sample_motors', 'triggers', 'triggers_timestamp']>\n",
      "- triggers: [   1    2    3 ... 2599 2600 2601]\n",
      "- timestamp: [1.57496154e+09 1.57496154e+09 1.57496154e+09 ... 1.57496179e+09\n",
      " 1.57496179e+09 1.57496179e+09]\n",
      "- sample_stage_x: [26200. 26250. 26300. ... 28600. 28650. 28700.]\n",
      "- sample_x_pos: [0. 0. 0. ... 0. 0. 0.]\n",
      "- sample_y_pos: [0. 0. 0. ... 0. 0. 0.]\n",
      "- sample_stage_y: [25800. 25800. 25800. ... 28300. 28300. 28300.]\n"
     ]
    },
    {
     "data": {
      "image/png": "[encoded data removed]",
      "text/plain": [
       "<Figure size 432x288 with 1 Axes>"
      ]
     },
     "metadata": {
      "needs_background": "light"
     },
     "output_type": "display_data"
    }
   ],
   "source": [
    "# This code snippet simulates the processing of datasets read from the volume space.\n",
    "# As result of this simulation, the PNG file will be uplodaded from the notebooks space \n",
    "# in the default OneProvider (CESNET-MCC).\n",
    "\n",
    "print(\"Available keys: %s\" % fh5py.keys())\n",
    "\n",
    "plt_file=\"result.png\"\n",
    "\n",
    "if (\"triggers\" in fh5py.keys()):\n",
    "\n",
    "    # Getting datasets\n",
    "    triggers = fh5py['triggers']\n",
    "    timestamp = fh5py['triggers_timestamp']\n",
    "    sample_stage_x = fh5py['sample_motors/sample_stage_x']\n",
    "    sample_x_pos = fh5py['sample_motors/sample_x_pos']\n",
    "    sample_y_pos = fh5py['sample_motors/sample_y_pos']\n",
    "    sample_stage_y = fh5py['sample_motors/sample_stage_y']\n",
    "\n",
    "    print(\"- triggers: %s\" %triggers[:])\n",
    "    print(\"- timestamp: %s\" %timestamp[:])\n",
    "    print(\"- sample_stage_x: %s\" %sample_stage_x[:])\n",
    "    print(\"- sample_x_pos: %s\" %sample_x_pos[:])\n",
    "    print(\"- sample_y_pos: %s\" %sample_y_pos[:])\n",
    "    print(\"- sample_stage_y: %s\" %sample_stage_y[:])\n",
    "\n",
    "    # Define data, grid, legend, and save the plot\n",
    "    plt.plot(triggers[:], sample_stage_x[:], label='triggers vs. sample_stage_x')\n",
    "    plt.plot(triggers[:], sample_stage_y[:], label='triggers vs. sample_stage_y')\n",
    "    plt.grid()\n",
    "    plt.legend()\n",
    "    plt.savefig(plt_file, dpi = (100))\n",
    "else:\n",
    "    print (\"Working in progress..\")\n",
    "\n",
    "#fh5py.close()\n",
    "#f.close()"
   ]
  },
  {
   "cell_type": "markdown",
   "metadata": {},
   "source": [
    "## Transferring the result of the simulation \n",
    "\n",
    "This code snipped is used as example to:\n",
    "- Simulate the processing of datasets from the volume space, and \n",
    "- Trigger the data transfer in the back-up provider "
   ]
  },
  {
   "cell_type": "code",
   "execution_count": 8,
   "metadata": {},
   "outputs": [
    {
     "name": "stdout",
     "output_type": "stream",
     "text": [
      "[{'totalBlocksSize': 65616, 'providerId': '02f4a17f6010dd1d0d9a9705f696b66b', 'blocks': [[0, 65616]]}]\n"
     ]
    }
   ],
   "source": [
    "if path.exists(plt_file):\n",
    "\n",
    "    # Define the absolute path in the specific oneprovider\n",
    "    replica = OZ_path + plt_file\n",
    "\n",
    "    # Reading local .PNG file\n",
    "    im = Image.open(plt_file)\n",
    "    byte_array = io.BytesIO()\n",
    "    \n",
    "    # Create the absolute path in the oneprovider and the file\n",
    "    f1 = odfs.create(replica)\n",
    "    f1 = odfs.openbin(replica, mode='w+')\n",
    "\n",
    "    # Store bytes in the volume space of the os.environ['ONEPROVIDER_HOST'] provider\n",
    "    im.save(byte_array, format='PNG')\n",
    "    f1.write(byte_array.getvalue())\n",
    "\n",
    "    # Close remote file\n",
    "    f1.close()\n",
    "\n",
    "    # Replicate a file specified by absolute path to a specified provider.\n",
    "    # This operation is asynchronous and it can take a long time depending \n",
    "    # on the size of the data to move.\n",
    "    # If the path parameter specifies a folder, entire folder is replicated \n",
    "    # to requested provider.\n",
    "    # \n",
    "    # API documentation here: \n",
    "    # https://onedata.org/#/home/api/stable/oneprovider?anchor=operation/replicate_file\n",
    "\n",
    "    REPLICA_ONEPROVIDER_HOST=\"oneprovider-pn-ceric.onezone-panosc.egi.eu\"\n",
    "    headers = {'X-Auth-Token': os.environ['ONECLIENT_ACCESS_TOKEN']}\n",
    "    url = \"https://%s/api/v3/oneprovider/replicas%s\" %(REPLICA_ONEPROVIDER_HOST, replica)\n",
    "    r = requests.get(url=url, headers=headers)\n",
    "    print(r.json())\n",
    "    \n",
    "else:\n",
    "    print(\"Nothing to do!\")"
   ]
  },
  {
   "cell_type": "code",
   "execution_count": null,
   "metadata": {},
   "outputs": [],
   "source": []
  }
 ],
 "metadata": {
  "kernelspec": {
   "display_name": "Python 3",
   "language": "python",
   "name": "python3"
  },
  "language_info": {
   "codemirror_mode": {
    "name": "ipython",
    "version": 3
   },
   "file_extension": ".py",
   "mimetype": "text/x-python",
   "name": "python",
   "nbconvert_exporter": "python",
   "pygments_lexer": "ipython3",
   "version": "3.7.6"
  }
 },
 "nbformat": 4,
 "nbformat_minor": 2
}
